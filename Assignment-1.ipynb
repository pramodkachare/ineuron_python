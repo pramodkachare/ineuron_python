{
 "cells": [
  {
   "cell_type": "markdown",
   "metadata": {},
   "source": [
    "# Assignment - 1"
   ]
  },
  {
   "cell_type": "markdown",
   "metadata": {},
   "source": [
    "## TASK -1"
   ]
  },
  {
   "cell_type": "markdown",
   "metadata": {},
   "source": [
    "2. Write a program which will find all such numbers which are divisible by 7 but are not a multiple\n",
    "of 5, between 2000 and 3200 (both included). The numbers obtained should be printed in a\n",
    "comma-separated sequence on a single line."
   ]
  },
  {
   "cell_type": "code",
   "execution_count": 1,
   "metadata": {},
   "outputs": [
    {
     "name": "stdout",
     "output_type": "stream",
     "text": [
      "2002,2009,2016,2023,2037,2044,2051,2058,2072,2079,2086,2093,2107,2114,2121,2128,2142,2149,2156,2163,2177,2184,2191,2198,2212,2219,2226,2233,2247,2254,2261,2268,2282,2289,2296,2303,2317,2324,2331,2338,2352,2359,2366,2373,2387,2394,2401,2408,2422,2429,2436,2443,2457,2464,2471,2478,2492,2499,2506,2513,2527,2534,2541,2548,2562,2569,2576,2583,2597,2604,2611,2618,2632,2639,2646,2653,2667,2674,2681,2688,2702,2709,2716,2723,2737,2744,2751,2758,2772,2779,2786,2793,2807,2814,2821,2828,2842,2849,2856,2863,2877,2884,2891,2898,2912,2919,2926,2933,2947,2954,2961,2968,2982,2989,2996\n"
     ]
    }
   ],
   "source": [
    "import numpy as np\n",
    "valid = []\n",
    "for num in range(2000, 3001):\n",
    "    if num%7 == 0 and num%5 != 0 :\n",
    "        valid.append(num)\n",
    "print(*valid, sep = ',')"
   ]
  },
  {
   "cell_type": "markdown",
   "metadata": {},
   "source": [
    "3. Write a Python program to accept the user's first and last name and then getting them printed in\n",
    "the the reverse order with a space between first name and last name."
   ]
  },
  {
   "cell_type": "code",
   "execution_count": 2,
   "metadata": {},
   "outputs": [
    {
     "name": "stdout",
     "output_type": "stream",
     "text": [
      "Enter First name: Pramod\n",
      "Enter Last name: Kachare\n",
      "Kachare Pramod\n"
     ]
    }
   ],
   "source": [
    "first = input('Enter First name: ')\n",
    "last = input('Enter Last name: ')\n",
    "print(last, first)"
   ]
  },
  {
   "cell_type": "markdown",
   "metadata": {},
   "source": [
    "4. Write a Python program to find the volume of a sphere with diameter 12 cm.\n",
    "Formula: V=4/3 * π * r 3"
   ]
  },
  {
   "cell_type": "code",
   "execution_count": 3,
   "metadata": {},
   "outputs": [
    {
     "name": "stdout",
     "output_type": "stream",
     "text": [
      "Volume of sphere is: 7238.229473870882 cm3\n"
     ]
    }
   ],
   "source": [
    "radius = 12 # in cm\n",
    "vol = (4/3)* np.pi * radius**3\n",
    "print('Volume of sphere is: {} cm3'.format(vol))"
   ]
  },
  {
   "cell_type": "markdown",
   "metadata": {},
   "source": [
    "## Task - 2"
   ]
  },
  {
   "cell_type": "markdown",
   "metadata": {},
   "source": [
    "1. Write a program which accepts a sequence of comma-separated numbers from console and generate a list."
   ]
  },
  {
   "cell_type": "code",
   "execution_count": 4,
   "metadata": {},
   "outputs": [
    {
     "name": "stdout",
     "output_type": "stream",
     "text": [
      "Enter sequence : 2,-3, 4.3, 0.5\n",
      "NUmber sequence : 2.0 -3.0 4.3 0.5\n"
     ]
    }
   ],
   "source": [
    "seq = input('Enter sequence : ')\n",
    "num_seq = [float(char) for char in seq.split(',')] # Using float to make sure decimal numbers are also accpeted\n",
    "print('NUmber sequence :', *num_seq)"
   ]
  },
  {
   "cell_type": "markdown",
   "metadata": {},
   "source": [
    "2. Create the below pattern using nested for loop in Python."
   ]
  },
  {
   "cell_type": "code",
   "execution_count": 5,
   "metadata": {},
   "outputs": [
    {
     "name": "stdout",
     "output_type": "stream",
     "text": [
      "* \n",
      "* * \n",
      "* * * \n",
      "* * * * \n",
      "* * * * * \n",
      "* * * * \n",
      "* * * \n",
      "* * \n",
      "* \n"
     ]
    }
   ],
   "source": [
    "for row in range(1, 10):\n",
    "    if row > 10/2: # For lower triangle\n",
    "        row -= 2*np.mod(row, 5) \n",
    "    for col in range(row): # To print each row\n",
    "        print('*', end = ' ')\n",
    "    print(end = '\\n') # Go to next row"
   ]
  },
  {
   "cell_type": "markdown",
   "metadata": {},
   "source": [
    "3. Write a Python program to reverse a word after accepting the input from the user"
   ]
  },
  {
   "cell_type": "code",
   "execution_count": 7,
   "metadata": {},
   "outputs": [
    {
     "name": "stdout",
     "output_type": "stream",
     "text": [
      "Enter the word: Pramod Kachare\n",
      "erahcaK domarP\n"
     ]
    }
   ],
   "source": [
    "in_word = input('Enter the word: ')\n",
    "out_word = in_word[-1:-len(in_word)-1:-1]\n",
    "print(out_word)"
   ]
  },
  {
   "cell_type": "markdown",
   "metadata": {},
   "source": [
    "4. Write a Python Program to print the given string in the format specified in the sample output. \n",
    "WE, THE PEOPLE OF INDIA, having solemnly resolved to constitute India into a\n",
    "SOVEREIGN, SOCIALIST, SECULAR, DEMOCRATIC REPUBLIC and to secure to all\n",
    "its citizens"
   ]
  },
  {
   "cell_type": "code",
   "execution_count": 40,
   "metadata": {},
   "outputs": [
    {
     "name": "stdout",
     "output_type": "stream",
     "text": [
      "WE, THE PEOPLE OF INDIA,\n",
      "      having solemnly resolved to constitute India into a SOVEREIGN,!\n",
      "             SOCIALIST, SECULAR, DEMOCRATIC REPUBLIC\n",
      "              and to secure to all its citizens\n"
     ]
    }
   ],
   "source": [
    "line = ['WE, THE PEOPLE OF INDIA,','having solemnly resolved to constitute India into a SOVEREIGN,', 'SOCIALIST, SECULAR, DEMOCRATIC REPUBLIC', 'and to secure to all its citizens']\n",
    "\n",
    "for i, text in enumerate(line):\n",
    "    if i == 0:\n",
    "        print(text)\n",
    "    if i == 1:\n",
    "        print('      '+text+'!')\n",
    "    if i == 2:\n",
    "        print('             '+text)\n",
    "    if i >2 :\n",
    "        print('              '+text)"
   ]
  }
 ],
 "metadata": {
  "kernelspec": {
   "display_name": "Python 3",
   "language": "python",
   "name": "python3"
  },
  "language_info": {
   "codemirror_mode": {
    "name": "ipython",
    "version": 3
   },
   "file_extension": ".py",
   "mimetype": "text/x-python",
   "name": "python",
   "nbconvert_exporter": "python",
   "pygments_lexer": "ipython3",
   "version": "3.7.1"
  }
 },
 "nbformat": 4,
 "nbformat_minor": 2
}
